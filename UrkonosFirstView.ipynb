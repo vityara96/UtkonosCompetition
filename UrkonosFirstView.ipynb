{
 "cells": [
  {
   "cell_type": "code",
   "execution_count": 1,
   "metadata": {},
   "outputs": [],
   "source": [
    "import pandas as pd\n",
    "import numpy as np\n",
    "import matplotlib.pyplot as plt\n",
    "import scipy.integrate as integrate\n",
    "%matplotlib inline\n",
    "import math"
   ]
  },
  {
   "cell_type": "code",
   "execution_count": 2,
   "metadata": {},
   "outputs": [
    {
     "name": "stderr",
     "output_type": "stream",
     "text": [
      "C:\\Users\\vikto\\conda\\lib\\site-packages\\IPython\\core\\interactiveshell.py:2785: DtypeWarning: Columns (8) have mixed types. Specify dtype option on import or set low_memory=False.\n",
      "  interactivity=interactivity, compiler=compiler, result=result)\n"
     ]
    }
   ],
   "source": [
    "df = pd.read_csv('train.csv', encoding='windows-1251')"
   ]
  },
  {
   "cell_type": "code",
   "execution_count": 3,
   "metadata": {},
   "outputs": [
    {
     "data": {
      "text/html": [
       "<div>\n",
       "<style scoped>\n",
       "    .dataframe tbody tr th:only-of-type {\n",
       "        vertical-align: middle;\n",
       "    }\n",
       "\n",
       "    .dataframe tbody tr th {\n",
       "        vertical-align: top;\n",
       "    }\n",
       "\n",
       "    .dataframe thead th {\n",
       "        text-align: right;\n",
       "    }\n",
       "</style>\n",
       "<table border=\"1\" class=\"dataframe\">\n",
       "  <thead>\n",
       "    <tr style=\"text-align: right;\">\n",
       "      <th></th>\n",
       "      <th>Interval</th>\n",
       "      <th>Date</th>\n",
       "      <th>OrderDate</th>\n",
       "      <th>ClientID</th>\n",
       "      <th>ChannelID</th>\n",
       "      <th>OrderID</th>\n",
       "      <th>MaterialID</th>\n",
       "      <th>GroupID</th>\n",
       "      <th>Cluster</th>\n",
       "      <th>CancelFlag</th>\n",
       "      <th>OrderCnt</th>\n",
       "      <th>DeliveryType</th>\n",
       "      <th>prepay</th>\n",
       "      <th>count_edit</th>\n",
       "    </tr>\n",
       "  </thead>\n",
       "  <tbody>\n",
       "    <tr>\n",
       "      <th>0</th>\n",
       "      <td>14-16.</td>\n",
       "      <td>03/10/2018</td>\n",
       "      <td>02/10/2018</td>\n",
       "      <td>93808186</td>\n",
       "      <td>2</td>\n",
       "      <td>90102063002</td>\n",
       "      <td>3328810.0</td>\n",
       "      <td>61.0</td>\n",
       "      <td>NaN</td>\n",
       "      <td>0</td>\n",
       "      <td>1.0</td>\n",
       "      <td>Обычная доставка</td>\n",
       "      <td>0</td>\n",
       "      <td>1</td>\n",
       "    </tr>\n",
       "    <tr>\n",
       "      <th>1</th>\n",
       "      <td>14-16.</td>\n",
       "      <td>03/10/2018</td>\n",
       "      <td>02/10/2018</td>\n",
       "      <td>93808186</td>\n",
       "      <td>2</td>\n",
       "      <td>90102063002</td>\n",
       "      <td>3281258.0</td>\n",
       "      <td>30.0</td>\n",
       "      <td>NaN</td>\n",
       "      <td>0</td>\n",
       "      <td>2.0</td>\n",
       "      <td>Обычная доставка</td>\n",
       "      <td>0</td>\n",
       "      <td>1</td>\n",
       "    </tr>\n",
       "    <tr>\n",
       "      <th>2</th>\n",
       "      <td>14-16.</td>\n",
       "      <td>03/10/2018</td>\n",
       "      <td>02/10/2018</td>\n",
       "      <td>93808186</td>\n",
       "      <td>2</td>\n",
       "      <td>90102063002</td>\n",
       "      <td>3210734.0</td>\n",
       "      <td>10.0</td>\n",
       "      <td>NaN</td>\n",
       "      <td>0</td>\n",
       "      <td>1.0</td>\n",
       "      <td>Обычная доставка</td>\n",
       "      <td>0</td>\n",
       "      <td>1</td>\n",
       "    </tr>\n",
       "    <tr>\n",
       "      <th>3</th>\n",
       "      <td>14-16.</td>\n",
       "      <td>03/10/2018</td>\n",
       "      <td>02/10/2018</td>\n",
       "      <td>93808186</td>\n",
       "      <td>2</td>\n",
       "      <td>90102063002</td>\n",
       "      <td>3328848.0</td>\n",
       "      <td>61.0</td>\n",
       "      <td>NaN</td>\n",
       "      <td>0</td>\n",
       "      <td>2.0</td>\n",
       "      <td>Обычная доставка</td>\n",
       "      <td>0</td>\n",
       "      <td>1</td>\n",
       "    </tr>\n",
       "    <tr>\n",
       "      <th>4</th>\n",
       "      <td>12-14.</td>\n",
       "      <td>07/10/2018</td>\n",
       "      <td>05/10/2018</td>\n",
       "      <td>94112406</td>\n",
       "      <td>2</td>\n",
       "      <td>90102091007</td>\n",
       "      <td>3347801.0</td>\n",
       "      <td>17.0</td>\n",
       "      <td>NaN</td>\n",
       "      <td>0</td>\n",
       "      <td>10.0</td>\n",
       "      <td>Обычная доставка</td>\n",
       "      <td>0</td>\n",
       "      <td>1</td>\n",
       "    </tr>\n",
       "  </tbody>\n",
       "</table>\n",
       "</div>"
      ],
      "text/plain": [
       "  Interval        Date   OrderDate  ClientID  ChannelID      OrderID  \\\n",
       "0   14-16.  03/10/2018  02/10/2018  93808186          2  90102063002   \n",
       "1   14-16.  03/10/2018  02/10/2018  93808186          2  90102063002   \n",
       "2   14-16.  03/10/2018  02/10/2018  93808186          2  90102063002   \n",
       "3   14-16.  03/10/2018  02/10/2018  93808186          2  90102063002   \n",
       "4   12-14.  07/10/2018  05/10/2018  94112406          2  90102091007   \n",
       "\n",
       "   MaterialID  GroupID Cluster  CancelFlag  OrderCnt      DeliveryType  \\\n",
       "0   3328810.0     61.0     NaN           0       1.0  Обычная доставка   \n",
       "1   3281258.0     30.0     NaN           0       2.0  Обычная доставка   \n",
       "2   3210734.0     10.0     NaN           0       1.0  Обычная доставка   \n",
       "3   3328848.0     61.0     NaN           0       2.0  Обычная доставка   \n",
       "4   3347801.0     17.0     NaN           0      10.0  Обычная доставка   \n",
       "\n",
       "   prepay  count_edit  \n",
       "0       0           1  \n",
       "1       0           1  \n",
       "2       0           1  \n",
       "3       0           1  \n",
       "4       0           1  "
      ]
     },
     "execution_count": 3,
     "metadata": {},
     "output_type": "execute_result"
    }
   ],
   "source": [
    "df.head()"
   ]
  },
  {
   "cell_type": "code",
   "execution_count": 4,
   "metadata": {},
   "outputs": [],
   "source": [
    "df = df.drop(df[df.GroupID.isnull()].index)"
   ]
  },
  {
   "cell_type": "code",
   "execution_count": 5,
   "metadata": {},
   "outputs": [
    {
     "data": {
      "text/plain": [
       "(9023079, 14)"
      ]
     },
     "execution_count": 5,
     "metadata": {},
     "output_type": "execute_result"
    }
   ],
   "source": [
    "df.shape"
   ]
  },
  {
   "cell_type": "code",
   "execution_count": 6,
   "metadata": {},
   "outputs": [
    {
     "data": {
      "text/plain": [
       "(9023079, 14)"
      ]
     },
     "execution_count": 6,
     "metadata": {},
     "output_type": "execute_result"
    }
   ],
   "source": [
    "df.shape"
   ]
  },
  {
   "cell_type": "code",
   "execution_count": 7,
   "metadata": {},
   "outputs": [
    {
     "data": {
      "text/plain": [
       "354746"
      ]
     },
     "execution_count": 7,
     "metadata": {},
     "output_type": "execute_result"
    }
   ],
   "source": [
    "df.OrderID.nunique()"
   ]
  },
  {
   "cell_type": "code",
   "execution_count": 8,
   "metadata": {},
   "outputs": [
    {
     "data": {
      "text/plain": [
       "31234"
      ]
     },
     "execution_count": 8,
     "metadata": {},
     "output_type": "execute_result"
    }
   ],
   "source": [
    "df.ClientID.nunique()"
   ]
  },
  {
   "cell_type": "markdown",
   "metadata": {},
   "source": [
    "Всего представлено 354746 различных заказов от 31234 уникальных клиента"
   ]
  },
  {
   "cell_type": "code",
   "execution_count": 9,
   "metadata": {},
   "outputs": [
    {
     "data": {
      "text/plain": [
       "0    330992\n",
       "1     23754\n",
       "Name: CancelFlag, dtype: int64"
      ]
     },
     "execution_count": 9,
     "metadata": {},
     "output_type": "execute_result"
    }
   ],
   "source": [
    "df[['OrderID', 'CancelFlag']].drop_duplicates().CancelFlag.value_counts()"
   ]
  },
  {
   "cell_type": "markdown",
   "metadata": {},
   "source": [
    "Видим явный дисбаланс клаccсов"
   ]
  },
  {
   "cell_type": "markdown",
   "metadata": {},
   "source": [
    "### EDA"
   ]
  },
  {
   "cell_type": "code",
   "execution_count": 10,
   "metadata": {},
   "outputs": [],
   "source": [
    "OrderInfo = df[['Interval', 'Date', 'OrderDate', 'ClientID', 'ChannelID', 'OrderID',\n",
    "                'Cluster', 'CancelFlag','DeliveryType', 'prepay', 'count_edit']].drop_duplicates()"
   ]
  },
  {
   "cell_type": "code",
   "execution_count": 11,
   "metadata": {},
   "outputs": [
    {
     "data": {
      "text/plain": [
       "(354746, 11)"
      ]
     },
     "execution_count": 11,
     "metadata": {},
     "output_type": "execute_result"
    }
   ],
   "source": [
    "OrderInfo.shape"
   ]
  },
  {
   "cell_type": "code",
   "execution_count": 12,
   "metadata": {},
   "outputs": [],
   "source": [
    "def create_crosstab(df, col_name1, col_name2):\n",
    "    cross = pd.crosstab(df[col_name1], df[col_name2])\n",
    "    cross['Freq'] = cross.loc[:,1]/cross.sum(axis=1)\n",
    "    return cross.sort_values('Freq', ascending=False)"
   ]
  },
  {
   "cell_type": "markdown",
   "metadata": {},
   "source": [
    "#### Предоплата"
   ]
  },
  {
   "cell_type": "code",
   "execution_count": 13,
   "metadata": {},
   "outputs": [
    {
     "data": {
      "text/html": [
       "<div>\n",
       "<style scoped>\n",
       "    .dataframe tbody tr th:only-of-type {\n",
       "        vertical-align: middle;\n",
       "    }\n",
       "\n",
       "    .dataframe tbody tr th {\n",
       "        vertical-align: top;\n",
       "    }\n",
       "\n",
       "    .dataframe thead th {\n",
       "        text-align: right;\n",
       "    }\n",
       "</style>\n",
       "<table border=\"1\" class=\"dataframe\">\n",
       "  <thead>\n",
       "    <tr style=\"text-align: right;\">\n",
       "      <th>CancelFlag</th>\n",
       "      <th>0</th>\n",
       "      <th>1</th>\n",
       "      <th>Freq</th>\n",
       "    </tr>\n",
       "    <tr>\n",
       "      <th>prepay</th>\n",
       "      <th></th>\n",
       "      <th></th>\n",
       "      <th></th>\n",
       "    </tr>\n",
       "  </thead>\n",
       "  <tbody>\n",
       "    <tr>\n",
       "      <th>0</th>\n",
       "      <td>256754</td>\n",
       "      <td>21622</td>\n",
       "      <td>0.077672</td>\n",
       "    </tr>\n",
       "    <tr>\n",
       "      <th>1</th>\n",
       "      <td>74238</td>\n",
       "      <td>2132</td>\n",
       "      <td>0.027917</td>\n",
       "    </tr>\n",
       "  </tbody>\n",
       "</table>\n",
       "</div>"
      ],
      "text/plain": [
       "CancelFlag       0      1      Freq\n",
       "prepay                             \n",
       "0           256754  21622  0.077672\n",
       "1            74238   2132  0.027917"
      ]
     },
     "execution_count": 13,
     "metadata": {},
     "output_type": "execute_result"
    }
   ],
   "source": [
    "create_crosstab(OrderInfo, 'prepay', 'CancelFlag')"
   ]
  },
  {
   "cell_type": "markdown",
   "metadata": {},
   "source": [
    "Частота отмены заказов ниже на 5%, если была совершена предоплата."
   ]
  },
  {
   "cell_type": "markdown",
   "metadata": {},
   "source": [
    "#### Тип доставки "
   ]
  },
  {
   "cell_type": "code",
   "execution_count": 14,
   "metadata": {},
   "outputs": [
    {
     "data": {
      "text/plain": [
       "array(['Обычная доставка', 'Доставка День в День'], dtype=object)"
      ]
     },
     "execution_count": 14,
     "metadata": {},
     "output_type": "execute_result"
    }
   ],
   "source": [
    "OrderInfo.DeliveryType.unique()"
   ]
  },
  {
   "cell_type": "code",
   "execution_count": 15,
   "metadata": {},
   "outputs": [
    {
     "data": {
      "text/html": [
       "<div>\n",
       "<style scoped>\n",
       "    .dataframe tbody tr th:only-of-type {\n",
       "        vertical-align: middle;\n",
       "    }\n",
       "\n",
       "    .dataframe tbody tr th {\n",
       "        vertical-align: top;\n",
       "    }\n",
       "\n",
       "    .dataframe thead th {\n",
       "        text-align: right;\n",
       "    }\n",
       "</style>\n",
       "<table border=\"1\" class=\"dataframe\">\n",
       "  <thead>\n",
       "    <tr style=\"text-align: right;\">\n",
       "      <th>CancelFlag</th>\n",
       "      <th>0</th>\n",
       "      <th>1</th>\n",
       "      <th>Freq</th>\n",
       "    </tr>\n",
       "    <tr>\n",
       "      <th>DeliveryType</th>\n",
       "      <th></th>\n",
       "      <th></th>\n",
       "      <th></th>\n",
       "    </tr>\n",
       "  </thead>\n",
       "  <tbody>\n",
       "    <tr>\n",
       "      <th>Обычная доставка</th>\n",
       "      <td>323129</td>\n",
       "      <td>23357</td>\n",
       "      <td>0.067411</td>\n",
       "    </tr>\n",
       "    <tr>\n",
       "      <th>Доставка День в День</th>\n",
       "      <td>7863</td>\n",
       "      <td>397</td>\n",
       "      <td>0.048063</td>\n",
       "    </tr>\n",
       "  </tbody>\n",
       "</table>\n",
       "</div>"
      ],
      "text/plain": [
       "CancelFlag                 0      1      Freq\n",
       "DeliveryType                                 \n",
       "Обычная доставка      323129  23357  0.067411\n",
       "Доставка День в День    7863    397  0.048063"
      ]
     },
     "execution_count": 15,
     "metadata": {},
     "output_type": "execute_result"
    }
   ],
   "source": [
    "create_crosstab(OrderInfo, 'DeliveryType', 'CancelFlag')"
   ]
  },
  {
   "cell_type": "markdown",
   "metadata": {},
   "source": [
    "Обычную доставку отменяют на 3% чаще."
   ]
  },
  {
   "cell_type": "markdown",
   "metadata": {},
   "source": [
    "#### Интервал доставки"
   ]
  },
  {
   "cell_type": "code",
   "execution_count": 16,
   "metadata": {},
   "outputs": [],
   "source": [
    "cross_interval = pd.crosstab(OrderInfo.Interval, OrderInfo.CancelFlag)"
   ]
  },
  {
   "cell_type": "code",
   "execution_count": 17,
   "metadata": {},
   "outputs": [
    {
     "data": {
      "text/plain": [
       "<matplotlib.axes._subplots.AxesSubplot at 0x28b2f94d3c8>"
      ]
     },
     "execution_count": 17,
     "metadata": {},
     "output_type": "execute_result"
    },
    {
     "data": {
      "image/png": "[encoded data removed]",
      "text/plain": [
       "<Figure size 1080x504 with 1 Axes>"
      ]
     },
     "metadata": {
      "needs_background": "light"
     },
     "output_type": "display_data"
    }
   ],
   "source": [
    "OrderInfo.Interval.value_counts().plot(kind='bar', figsize=(15,7))"
   ]
  },
  {
   "cell_type": "markdown",
   "metadata": {},
   "source": [
    "Длина интервалов разная, есть пересекающиеся интервалы. Анализировать конкретные интервалы нет смысла, посмотрим на их длину."
   ]
  },
  {
   "cell_type": "code",
   "execution_count": 18,
   "metadata": {},
   "outputs": [],
   "source": [
    "OrderInfo['left_int'] = OrderInfo.Interval.str.split('-').str[0].astype(int)\n",
    "OrderInfo['right_int'] = OrderInfo.Interval.str.split('-').str[1].str.replace('.','').astype(int)"
   ]
  },
  {
   "cell_type": "code",
   "execution_count": 19,
   "metadata": {},
   "outputs": [],
   "source": [
    "OrderInfo.loc[OrderInfo[OrderInfo.right_int > OrderInfo.left_int].index, 'int_len'] = \\\n",
    "    OrderInfo.loc[OrderInfo[OrderInfo.right_int > OrderInfo.left_int].index, 'right_int'] - OrderInfo.loc[OrderInfo[OrderInfo.right_int > OrderInfo.left_int].index, 'left_int']\n",
    "\n",
    "OrderInfo.loc[OrderInfo[OrderInfo.right_int < OrderInfo.left_int].index, 'int_len'] = \\\n",
    "    OrderInfo.loc[OrderInfo[OrderInfo.right_int < OrderInfo.left_int].index, 'right_int'] + (24 - OrderInfo.loc[OrderInfo[OrderInfo.right_int < OrderInfo.left_int].index, 'left_int'])"
   ]
  },
  {
   "cell_type": "code",
   "execution_count": 20,
   "metadata": {
    "scrolled": true
   },
   "outputs": [
    {
     "data": {
      "text/html": [
       "<div>\n",
       "<style scoped>\n",
       "    .dataframe tbody tr th:only-of-type {\n",
       "        vertical-align: middle;\n",
       "    }\n",
       "\n",
       "    .dataframe tbody tr th {\n",
       "        vertical-align: top;\n",
       "    }\n",
       "\n",
       "    .dataframe thead th {\n",
       "        text-align: right;\n",
       "    }\n",
       "</style>\n",
       "<table border=\"1\" class=\"dataframe\">\n",
       "  <thead>\n",
       "    <tr style=\"text-align: right;\">\n",
       "      <th></th>\n",
       "      <th>Interval</th>\n",
       "      <th>Date</th>\n",
       "      <th>OrderDate</th>\n",
       "      <th>ClientID</th>\n",
       "      <th>ChannelID</th>\n",
       "      <th>OrderID</th>\n",
       "      <th>Cluster</th>\n",
       "      <th>CancelFlag</th>\n",
       "      <th>DeliveryType</th>\n",
       "      <th>prepay</th>\n",
       "      <th>count_edit</th>\n",
       "      <th>left_int</th>\n",
       "      <th>right_int</th>\n",
       "      <th>int_len</th>\n",
       "    </tr>\n",
       "  </thead>\n",
       "  <tbody>\n",
       "    <tr>\n",
       "      <th>0</th>\n",
       "      <td>14-16.</td>\n",
       "      <td>03/10/2018</td>\n",
       "      <td>02/10/2018</td>\n",
       "      <td>93808186</td>\n",
       "      <td>2</td>\n",
       "      <td>90102063002</td>\n",
       "      <td>NaN</td>\n",
       "      <td>0</td>\n",
       "      <td>Обычная доставка</td>\n",
       "      <td>0</td>\n",
       "      <td>1</td>\n",
       "      <td>14</td>\n",
       "      <td>16</td>\n",
       "      <td>2.0</td>\n",
       "    </tr>\n",
       "    <tr>\n",
       "      <th>4</th>\n",
       "      <td>12-14.</td>\n",
       "      <td>07/10/2018</td>\n",
       "      <td>05/10/2018</td>\n",
       "      <td>94112406</td>\n",
       "      <td>2</td>\n",
       "      <td>90102091007</td>\n",
       "      <td>NaN</td>\n",
       "      <td>0</td>\n",
       "      <td>Обычная доставка</td>\n",
       "      <td>0</td>\n",
       "      <td>1</td>\n",
       "      <td>12</td>\n",
       "      <td>14</td>\n",
       "      <td>2.0</td>\n",
       "    </tr>\n",
       "    <tr>\n",
       "      <th>9</th>\n",
       "      <td>19-21.</td>\n",
       "      <td>05/10/2018</td>\n",
       "      <td>05/10/2018</td>\n",
       "      <td>93696397</td>\n",
       "      <td>2</td>\n",
       "      <td>90102092000</td>\n",
       "      <td>NaN</td>\n",
       "      <td>0</td>\n",
       "      <td>Доставка День в День</td>\n",
       "      <td>0</td>\n",
       "      <td>1</td>\n",
       "      <td>19</td>\n",
       "      <td>21</td>\n",
       "      <td>2.0</td>\n",
       "    </tr>\n",
       "    <tr>\n",
       "      <th>19</th>\n",
       "      <td>22-0.</td>\n",
       "      <td>12/10/2018</td>\n",
       "      <td>12/10/2018</td>\n",
       "      <td>93696397</td>\n",
       "      <td>2</td>\n",
       "      <td>90102103017</td>\n",
       "      <td>NaN</td>\n",
       "      <td>0</td>\n",
       "      <td>Обычная доставка</td>\n",
       "      <td>0</td>\n",
       "      <td>1</td>\n",
       "      <td>22</td>\n",
       "      <td>0</td>\n",
       "      <td>2.0</td>\n",
       "    </tr>\n",
       "    <tr>\n",
       "      <th>28</th>\n",
       "      <td>10-18.</td>\n",
       "      <td>17/10/2018</td>\n",
       "      <td>15/10/2018</td>\n",
       "      <td>93411902</td>\n",
       "      <td>2</td>\n",
       "      <td>90102104012</td>\n",
       "      <td>NaN</td>\n",
       "      <td>1</td>\n",
       "      <td>Обычная доставка</td>\n",
       "      <td>0</td>\n",
       "      <td>1</td>\n",
       "      <td>10</td>\n",
       "      <td>18</td>\n",
       "      <td>8.0</td>\n",
       "    </tr>\n",
       "  </tbody>\n",
       "</table>\n",
       "</div>"
      ],
      "text/plain": [
       "   Interval        Date   OrderDate  ClientID  ChannelID      OrderID Cluster  \\\n",
       "0    14-16.  03/10/2018  02/10/2018  93808186          2  90102063002     NaN   \n",
       "4    12-14.  07/10/2018  05/10/2018  94112406          2  90102091007     NaN   \n",
       "9    19-21.  05/10/2018  05/10/2018  93696397          2  90102092000     NaN   \n",
       "19    22-0.  12/10/2018  12/10/2018  93696397          2  90102103017     NaN   \n",
       "28   10-18.  17/10/2018  15/10/2018  93411902          2  90102104012     NaN   \n",
       "\n",
       "    CancelFlag          DeliveryType  prepay  count_edit  left_int  right_int  \\\n",
       "0            0      Обычная доставка       0           1        14         16   \n",
       "4            0      Обычная доставка       0           1        12         14   \n",
       "9            0  Доставка День в День       0           1        19         21   \n",
       "19           0      Обычная доставка       0           1        22          0   \n",
       "28           1      Обычная доставка       0           1        10         18   \n",
       "\n",
       "    int_len  \n",
       "0       2.0  \n",
       "4       2.0  \n",
       "9       2.0  \n",
       "19      2.0  \n",
       "28      8.0  "
      ]
     },
     "execution_count": 20,
     "metadata": {},
     "output_type": "execute_result"
    }
   ],
   "source": [
    "OrderInfo.head()"
   ]
  },
  {
   "cell_type": "code",
   "execution_count": 22,
   "metadata": {},
   "outputs": [
    {
     "data": {
      "text/html": [
       "<div>\n",
       "<style scoped>\n",
       "    .dataframe tbody tr th:only-of-type {\n",
       "        vertical-align: middle;\n",
       "    }\n",
       "\n",
       "    .dataframe tbody tr th {\n",
       "        vertical-align: top;\n",
       "    }\n",
       "\n",
       "    .dataframe thead th {\n",
       "        text-align: right;\n",
       "    }\n",
       "</style>\n",
       "<table border=\"1\" class=\"dataframe\">\n",
       "  <thead>\n",
       "    <tr style=\"text-align: right;\">\n",
       "      <th>CancelFlag</th>\n",
       "      <th>0</th>\n",
       "      <th>1</th>\n",
       "      <th>Freq</th>\n",
       "    </tr>\n",
       "    <tr>\n",
       "      <th>int_len</th>\n",
       "      <th></th>\n",
       "      <th></th>\n",
       "      <th></th>\n",
       "    </tr>\n",
       "  </thead>\n",
       "  <tbody>\n",
       "    <tr>\n",
       "      <th>10.0</th>\n",
       "      <td>60</td>\n",
       "      <td>24</td>\n",
       "      <td>0.285714</td>\n",
       "    </tr>\n",
       "    <tr>\n",
       "      <th>7.0</th>\n",
       "      <td>128</td>\n",
       "      <td>45</td>\n",
       "      <td>0.260116</td>\n",
       "    </tr>\n",
       "    <tr>\n",
       "      <th>5.0</th>\n",
       "      <td>5262</td>\n",
       "      <td>728</td>\n",
       "      <td>0.121536</td>\n",
       "    </tr>\n",
       "    <tr>\n",
       "      <th>3.0</th>\n",
       "      <td>232</td>\n",
       "      <td>32</td>\n",
       "      <td>0.121212</td>\n",
       "    </tr>\n",
       "    <tr>\n",
       "      <th>6.0</th>\n",
       "      <td>2933</td>\n",
       "      <td>334</td>\n",
       "      <td>0.102234</td>\n",
       "    </tr>\n",
       "    <tr>\n",
       "      <th>8.0</th>\n",
       "      <td>3693</td>\n",
       "      <td>409</td>\n",
       "      <td>0.099707</td>\n",
       "    </tr>\n",
       "    <tr>\n",
       "      <th>4.0</th>\n",
       "      <td>14651</td>\n",
       "      <td>1498</td>\n",
       "      <td>0.092761</td>\n",
       "    </tr>\n",
       "    <tr>\n",
       "      <th>2.0</th>\n",
       "      <td>302968</td>\n",
       "      <td>20612</td>\n",
       "      <td>0.063700</td>\n",
       "    </tr>\n",
       "    <tr>\n",
       "      <th>1.0</th>\n",
       "      <td>1065</td>\n",
       "      <td>72</td>\n",
       "      <td>0.063325</td>\n",
       "    </tr>\n",
       "  </tbody>\n",
       "</table>\n",
       "</div>"
      ],
      "text/plain": [
       "CancelFlag       0      1      Freq\n",
       "int_len                            \n",
       "10.0            60     24  0.285714\n",
       "7.0            128     45  0.260116\n",
       "5.0           5262    728  0.121536\n",
       "3.0            232     32  0.121212\n",
       "6.0           2933    334  0.102234\n",
       "8.0           3693    409  0.099707\n",
       "4.0          14651   1498  0.092761\n",
       "2.0         302968  20612  0.063700\n",
       "1.0           1065     72  0.063325"
      ]
     },
     "execution_count": 22,
     "metadata": {},
     "output_type": "execute_result"
    }
   ],
   "source": [
    "create_crosstab(OrderInfo, 'int_len', 'CancelFlag')"
   ]
  },
  {
   "cell_type": "markdown",
   "metadata": {},
   "source": [
    "Видим, что частота отказов меньше, если интервал доставки 1 или 2 часа."
   ]
  },
  {
   "cell_type": "markdown",
   "metadata": {},
   "source": [
    "#### Дней до доставки"
   ]
  },
  {
   "cell_type": "code",
   "execution_count": 23,
   "metadata": {},
   "outputs": [],
   "source": [
    "OrderInfo.Date = pd.to_datetime(OrderInfo.Date, format='%d/%m/%Y')\n",
    "OrderInfo.OrderDate = pd.to_datetime(OrderInfo.OrderDate, format='%d/%m/%Y')\n",
    "OrderInfo['delivery_time'] = (OrderInfo.Date - OrderInfo.OrderDate)"
   ]
  },
  {
   "cell_type": "code",
   "execution_count": 24,
   "metadata": {},
   "outputs": [],
   "source": [
    "OrderInfo.delivery_time = OrderInfo.delivery_time.apply(lambda x: x.days)"
   ]
  },
  {
   "cell_type": "code",
   "execution_count": 25,
   "metadata": {},
   "outputs": [
    {
     "data": {
      "text/plain": [
       "<matplotlib.axes._subplots.AxesSubplot at 0x28b335e7cc0>"
      ]
     },
     "execution_count": 25,
     "metadata": {},
     "output_type": "execute_result"
    },
    {
     "data": {
      "image/png": "[encoded data removed]",
      "text/plain": [
       "<Figure size 1080x504 with 1 Axes>"
      ]
     },
     "metadata": {
      "needs_background": "light"
     },
     "output_type": "display_data"
    }
   ],
   "source": [
    "OrderInfo.groupby('delivery_time')['OrderID'].count().plot(kind='bar', figsize=(15,7), logy=True)"
   ]
  },
  {
   "cell_type": "markdown",
   "metadata": {},
   "source": [
    "Видим, что есть записи, в которых, скорее всего, поменены местами дата заказа и доставки. Поменяем их местами"
   ]
  },
  {
   "cell_type": "code",
   "execution_count": 46,
   "metadata": {},
   "outputs": [
    {
     "data": {
      "text/html": [
       "<div>\n",
       "<style scoped>\n",
       "    .dataframe tbody tr th:only-of-type {\n",
       "        vertical-align: middle;\n",
       "    }\n",
       "\n",
       "    .dataframe tbody tr th {\n",
       "        vertical-align: top;\n",
       "    }\n",
       "\n",
       "    .dataframe thead th {\n",
       "        text-align: right;\n",
       "    }\n",
       "</style>\n",
       "<table border=\"1\" class=\"dataframe\">\n",
       "  <thead>\n",
       "    <tr style=\"text-align: right;\">\n",
       "      <th></th>\n",
       "      <th>Date</th>\n",
       "      <th>OrderDate</th>\n",
       "      <th>OrderID</th>\n",
       "      <th>prepay</th>\n",
       "      <th>CancelFlag</th>\n",
       "      <th>DeliveryType</th>\n",
       "      <th>Interval</th>\n",
       "      <th>left_int</th>\n",
       "      <th>right_int</th>\n",
       "      <th>int_len</th>\n",
       "      <th>delivery_time</th>\n",
       "    </tr>\n",
       "  </thead>\n",
       "  <tbody>\n",
       "    <tr>\n",
       "      <th>594917</th>\n",
       "      <td>2018-01-29</td>\n",
       "      <td>2018-01-30</td>\n",
       "      <td>98354413765</td>\n",
       "      <td>1</td>\n",
       "      <td>1</td>\n",
       "      <td>Обычная доставка</td>\n",
       "      <td>10-12.</td>\n",
       "      <td>10</td>\n",
       "      <td>12</td>\n",
       "      <td>2.0</td>\n",
       "      <td>-1</td>\n",
       "    </tr>\n",
       "    <tr>\n",
       "      <th>1242129</th>\n",
       "      <td>2018-02-19</td>\n",
       "      <td>2018-02-22</td>\n",
       "      <td>98354627245</td>\n",
       "      <td>1</td>\n",
       "      <td>1</td>\n",
       "      <td>Обычная доставка</td>\n",
       "      <td>12-14.</td>\n",
       "      <td>12</td>\n",
       "      <td>14</td>\n",
       "      <td>2.0</td>\n",
       "      <td>-3</td>\n",
       "    </tr>\n",
       "    <tr>\n",
       "      <th>1350592</th>\n",
       "      <td>2018-02-20</td>\n",
       "      <td>2018-02-22</td>\n",
       "      <td>98354661653</td>\n",
       "      <td>1</td>\n",
       "      <td>1</td>\n",
       "      <td>Обычная доставка</td>\n",
       "      <td>18-20.</td>\n",
       "      <td>18</td>\n",
       "      <td>20</td>\n",
       "      <td>2.0</td>\n",
       "      <td>-2</td>\n",
       "    </tr>\n",
       "    <tr>\n",
       "      <th>1858173</th>\n",
       "      <td>2018-03-08</td>\n",
       "      <td>2018-03-12</td>\n",
       "      <td>98354824541</td>\n",
       "      <td>1</td>\n",
       "      <td>1</td>\n",
       "      <td>Обычная доставка</td>\n",
       "      <td>16-18.</td>\n",
       "      <td>16</td>\n",
       "      <td>18</td>\n",
       "      <td>2.0</td>\n",
       "      <td>-4</td>\n",
       "    </tr>\n",
       "    <tr>\n",
       "      <th>2161897</th>\n",
       "      <td>2018-03-19</td>\n",
       "      <td>2018-03-20</td>\n",
       "      <td>98354917909</td>\n",
       "      <td>1</td>\n",
       "      <td>1</td>\n",
       "      <td>Обычная доставка</td>\n",
       "      <td>14-16.</td>\n",
       "      <td>14</td>\n",
       "      <td>16</td>\n",
       "      <td>2.0</td>\n",
       "      <td>-1</td>\n",
       "    </tr>\n",
       "    <tr>\n",
       "      <th>2759584</th>\n",
       "      <td>2018-04-10</td>\n",
       "      <td>2018-04-13</td>\n",
       "      <td>98355100324</td>\n",
       "      <td>1</td>\n",
       "      <td>1</td>\n",
       "      <td>Обычная доставка</td>\n",
       "      <td>10-12.</td>\n",
       "      <td>10</td>\n",
       "      <td>12</td>\n",
       "      <td>2.0</td>\n",
       "      <td>-3</td>\n",
       "    </tr>\n",
       "    <tr>\n",
       "      <th>3637513</th>\n",
       "      <td>2018-05-16</td>\n",
       "      <td>2018-05-17</td>\n",
       "      <td>98355370076</td>\n",
       "      <td>1</td>\n",
       "      <td>1</td>\n",
       "      <td>Обычная доставка</td>\n",
       "      <td>6-14.</td>\n",
       "      <td>6</td>\n",
       "      <td>14</td>\n",
       "      <td>8.0</td>\n",
       "      <td>-1</td>\n",
       "    </tr>\n",
       "    <tr>\n",
       "      <th>4200018</th>\n",
       "      <td>2018-06-14</td>\n",
       "      <td>2018-06-15</td>\n",
       "      <td>98355548158</td>\n",
       "      <td>1</td>\n",
       "      <td>1</td>\n",
       "      <td>Обычная доставка</td>\n",
       "      <td>10-12.</td>\n",
       "      <td>10</td>\n",
       "      <td>12</td>\n",
       "      <td>2.0</td>\n",
       "      <td>-1</td>\n",
       "    </tr>\n",
       "    <tr>\n",
       "      <th>5619142</th>\n",
       "      <td>2018-08-27</td>\n",
       "      <td>2018-08-28</td>\n",
       "      <td>98356041142</td>\n",
       "      <td>1</td>\n",
       "      <td>1</td>\n",
       "      <td>Обычная доставка</td>\n",
       "      <td>10-12.</td>\n",
       "      <td>10</td>\n",
       "      <td>12</td>\n",
       "      <td>2.0</td>\n",
       "      <td>-1</td>\n",
       "    </tr>\n",
       "    <tr>\n",
       "      <th>5809497</th>\n",
       "      <td>2018-09-03</td>\n",
       "      <td>2018-09-05</td>\n",
       "      <td>98356113738</td>\n",
       "      <td>0</td>\n",
       "      <td>1</td>\n",
       "      <td>Обычная доставка</td>\n",
       "      <td>10-12.</td>\n",
       "      <td>10</td>\n",
       "      <td>12</td>\n",
       "      <td>2.0</td>\n",
       "      <td>-2</td>\n",
       "    </tr>\n",
       "    <tr>\n",
       "      <th>5985720</th>\n",
       "      <td>2018-09-10</td>\n",
       "      <td>2018-09-11</td>\n",
       "      <td>98356174292</td>\n",
       "      <td>1</td>\n",
       "      <td>1</td>\n",
       "      <td>Обычная доставка</td>\n",
       "      <td>8-10.</td>\n",
       "      <td>8</td>\n",
       "      <td>10</td>\n",
       "      <td>2.0</td>\n",
       "      <td>-1</td>\n",
       "    </tr>\n",
       "    <tr>\n",
       "      <th>6393200</th>\n",
       "      <td>2018-09-26</td>\n",
       "      <td>2018-09-27</td>\n",
       "      <td>98356314552</td>\n",
       "      <td>1</td>\n",
       "      <td>1</td>\n",
       "      <td>Обычная доставка</td>\n",
       "      <td>16-18.</td>\n",
       "      <td>16</td>\n",
       "      <td>18</td>\n",
       "      <td>2.0</td>\n",
       "      <td>-1</td>\n",
       "    </tr>\n",
       "    <tr>\n",
       "      <th>6448977</th>\n",
       "      <td>2018-09-28</td>\n",
       "      <td>2018-10-01</td>\n",
       "      <td>98356333963</td>\n",
       "      <td>1</td>\n",
       "      <td>1</td>\n",
       "      <td>Обычная доставка</td>\n",
       "      <td>10-12.</td>\n",
       "      <td>10</td>\n",
       "      <td>12</td>\n",
       "      <td>2.0</td>\n",
       "      <td>-3</td>\n",
       "    </tr>\n",
       "    <tr>\n",
       "      <th>8251968</th>\n",
       "      <td>2018-12-07</td>\n",
       "      <td>2018-12-10</td>\n",
       "      <td>98356964721</td>\n",
       "      <td>1</td>\n",
       "      <td>1</td>\n",
       "      <td>Обычная доставка</td>\n",
       "      <td>10-12.</td>\n",
       "      <td>10</td>\n",
       "      <td>12</td>\n",
       "      <td>2.0</td>\n",
       "      <td>-3</td>\n",
       "    </tr>\n",
       "    <tr>\n",
       "      <th>8505798</th>\n",
       "      <td>2018-12-16</td>\n",
       "      <td>2018-12-18</td>\n",
       "      <td>98357065425</td>\n",
       "      <td>0</td>\n",
       "      <td>1</td>\n",
       "      <td>Обычная доставка</td>\n",
       "      <td>12-14.</td>\n",
       "      <td>12</td>\n",
       "      <td>14</td>\n",
       "      <td>2.0</td>\n",
       "      <td>-2</td>\n",
       "    </tr>\n",
       "    <tr>\n",
       "      <th>8905479</th>\n",
       "      <td>2018-12-27</td>\n",
       "      <td>2018-12-28</td>\n",
       "      <td>98357223037</td>\n",
       "      <td>1</td>\n",
       "      <td>1</td>\n",
       "      <td>Обычная доставка</td>\n",
       "      <td>16-18.</td>\n",
       "      <td>16</td>\n",
       "      <td>18</td>\n",
       "      <td>2.0</td>\n",
       "      <td>-1</td>\n",
       "    </tr>\n",
       "  </tbody>\n",
       "</table>\n",
       "</div>"
      ],
      "text/plain": [
       "              Date  OrderDate      OrderID  prepay  CancelFlag  \\\n",
       "594917  2018-01-29 2018-01-30  98354413765       1           1   \n",
       "1242129 2018-02-19 2018-02-22  98354627245       1           1   \n",
       "1350592 2018-02-20 2018-02-22  98354661653       1           1   \n",
       "1858173 2018-03-08 2018-03-12  98354824541       1           1   \n",
       "2161897 2018-03-19 2018-03-20  98354917909       1           1   \n",
       "2759584 2018-04-10 2018-04-13  98355100324       1           1   \n",
       "3637513 2018-05-16 2018-05-17  98355370076       1           1   \n",
       "4200018 2018-06-14 2018-06-15  98355548158       1           1   \n",
       "5619142 2018-08-27 2018-08-28  98356041142       1           1   \n",
       "5809497 2018-09-03 2018-09-05  98356113738       0           1   \n",
       "5985720 2018-09-10 2018-09-11  98356174292       1           1   \n",
       "6393200 2018-09-26 2018-09-27  98356314552       1           1   \n",
       "6448977 2018-09-28 2018-10-01  98356333963       1           1   \n",
       "8251968 2018-12-07 2018-12-10  98356964721       1           1   \n",
       "8505798 2018-12-16 2018-12-18  98357065425       0           1   \n",
       "8905479 2018-12-27 2018-12-28  98357223037       1           1   \n",
       "\n",
       "             DeliveryType Interval  left_int  right_int  int_len  \\\n",
       "594917   Обычная доставка   10-12.        10         12      2.0   \n",
       "1242129  Обычная доставка   12-14.        12         14      2.0   \n",
       "1350592  Обычная доставка   18-20.        18         20      2.0   \n",
       "1858173  Обычная доставка   16-18.        16         18      2.0   \n",
       "2161897  Обычная доставка   14-16.        14         16      2.0   \n",
       "2759584  Обычная доставка   10-12.        10         12      2.0   \n",
       "3637513  Обычная доставка    6-14.         6         14      8.0   \n",
       "4200018  Обычная доставка   10-12.        10         12      2.0   \n",
       "5619142  Обычная доставка   10-12.        10         12      2.0   \n",
       "5809497  Обычная доставка   10-12.        10         12      2.0   \n",
       "5985720  Обычная доставка    8-10.         8         10      2.0   \n",
       "6393200  Обычная доставка   16-18.        16         18      2.0   \n",
       "6448977  Обычная доставка   10-12.        10         12      2.0   \n",
       "8251968  Обычная доставка   10-12.        10         12      2.0   \n",
       "8505798  Обычная доставка   12-14.        12         14      2.0   \n",
       "8905479  Обычная доставка   16-18.        16         18      2.0   \n",
       "\n",
       "         delivery_time  \n",
       "594917              -1  \n",
       "1242129             -3  \n",
       "1350592             -2  \n",
       "1858173             -4  \n",
       "2161897             -1  \n",
       "2759584             -3  \n",
       "3637513             -1  \n",
       "4200018             -1  \n",
       "5619142             -1  \n",
       "5809497             -2  \n",
       "5985720             -1  \n",
       "6393200             -1  \n",
       "6448977             -3  \n",
       "8251968             -3  \n",
       "8505798             -2  \n",
       "8905479             -1  "
      ]
     },
     "execution_count": 46,
     "metadata": {},
     "output_type": "execute_result"
    }
   ],
   "source": [
    "OrderInfo[OrderInfo.delivery_time < 0]"
   ]
  },
  {
   "cell_type": "code",
   "execution_count": 26,
   "metadata": {},
   "outputs": [],
   "source": [
    "OrderInfo['delivery_time'] = (OrderInfo.Date - OrderInfo.OrderDate).apply(lambda x: x.days)"
   ]
  },
  {
   "cell_type": "code",
   "execution_count": 29,
   "metadata": {},
   "outputs": [],
   "source": [
    "dtl0_index = OrderInfo[OrderInfo.delivery_time < 0].index\n",
    "OrderInfo.loc[dtl0_index, 'Date'], OrderInfo.loc[dtl0_index,'OrderDate'] =\\\n",
    "        OrderInfo.loc[dtl0_index,'OrderDate'] , OrderInfo.loc[dtl0_index, 'Date']\n",
    "OrderInfo.loc[dtl0_index,'delivery_time'] =\\\n",
    "        (OrderInfo.loc[dtl0_index, 'Date'] - OrderInfo.loc[dtl0_index,'OrderDate']).apply(lambda x: x.days)"
   ]
  },
  {
   "cell_type": "code",
   "execution_count": 31,
   "metadata": {},
   "outputs": [
    {
     "data": {
      "text/plain": [
       "<matplotlib.axes._subplots.AxesSubplot at 0x28b30a54320>"
      ]
     },
     "execution_count": 31,
     "metadata": {},
     "output_type": "execute_result"
    },
    {
     "data": {
      "image/png": "[encoded data removed]",
      "text/plain": [
       "<Figure size 1080x504 with 1 Axes>"
      ]
     },
     "metadata": {
      "needs_background": "light"
     },
     "output_type": "display_data"
    }
   ],
   "source": [
    "OrderInfo.groupby('delivery_time')['OrderID'].count().plot(kind='bar', figsize=(15,7), logy=True)"
   ]
  },
  {
   "cell_type": "markdown",
   "metadata": {},
   "source": [
    "Доставку заказывают в большинстве случаев на день заказа, либо на ближайшие 2 дня"
   ]
  },
  {
   "cell_type": "code",
   "execution_count": 33,
   "metadata": {},
   "outputs": [
    {
     "data": {
      "text/html": [
       "<div>\n",
       "<style scoped>\n",
       "    .dataframe tbody tr th:only-of-type {\n",
       "        vertical-align: middle;\n",
       "    }\n",
       "\n",
       "    .dataframe tbody tr th {\n",
       "        vertical-align: top;\n",
       "    }\n",
       "\n",
       "    .dataframe thead th {\n",
       "        text-align: right;\n",
       "    }\n",
       "</style>\n",
       "<table border=\"1\" class=\"dataframe\">\n",
       "  <thead>\n",
       "    <tr style=\"text-align: right;\">\n",
       "      <th>CancelFlag</th>\n",
       "      <th>0</th>\n",
       "      <th>1</th>\n",
       "      <th>Freq</th>\n",
       "    </tr>\n",
       "    <tr>\n",
       "      <th>delivery_time</th>\n",
       "      <th></th>\n",
       "      <th></th>\n",
       "      <th></th>\n",
       "    </tr>\n",
       "  </thead>\n",
       "  <tbody>\n",
       "    <tr>\n",
       "      <th>24</th>\n",
       "      <td>0</td>\n",
       "      <td>2</td>\n",
       "      <td>1.000000</td>\n",
       "    </tr>\n",
       "    <tr>\n",
       "      <th>23</th>\n",
       "      <td>0</td>\n",
       "      <td>1</td>\n",
       "      <td>1.000000</td>\n",
       "    </tr>\n",
       "    <tr>\n",
       "      <th>20</th>\n",
       "      <td>0</td>\n",
       "      <td>1</td>\n",
       "      <td>1.000000</td>\n",
       "    </tr>\n",
       "    <tr>\n",
       "      <th>18</th>\n",
       "      <td>1</td>\n",
       "      <td>6</td>\n",
       "      <td>0.857143</td>\n",
       "    </tr>\n",
       "    <tr>\n",
       "      <th>21</th>\n",
       "      <td>1</td>\n",
       "      <td>4</td>\n",
       "      <td>0.800000</td>\n",
       "    </tr>\n",
       "    <tr>\n",
       "      <th>19</th>\n",
       "      <td>1</td>\n",
       "      <td>2</td>\n",
       "      <td>0.666667</td>\n",
       "    </tr>\n",
       "    <tr>\n",
       "      <th>14</th>\n",
       "      <td>6</td>\n",
       "      <td>6</td>\n",
       "      <td>0.500000</td>\n",
       "    </tr>\n",
       "    <tr>\n",
       "      <th>22</th>\n",
       "      <td>3</td>\n",
       "      <td>3</td>\n",
       "      <td>0.500000</td>\n",
       "    </tr>\n",
       "    <tr>\n",
       "      <th>9</th>\n",
       "      <td>4</td>\n",
       "      <td>4</td>\n",
       "      <td>0.500000</td>\n",
       "    </tr>\n",
       "    <tr>\n",
       "      <th>16</th>\n",
       "      <td>3</td>\n",
       "      <td>3</td>\n",
       "      <td>0.500000</td>\n",
       "    </tr>\n",
       "    <tr>\n",
       "      <th>8</th>\n",
       "      <td>11</td>\n",
       "      <td>6</td>\n",
       "      <td>0.352941</td>\n",
       "    </tr>\n",
       "    <tr>\n",
       "      <th>17</th>\n",
       "      <td>2</td>\n",
       "      <td>1</td>\n",
       "      <td>0.333333</td>\n",
       "    </tr>\n",
       "    <tr>\n",
       "      <th>15</th>\n",
       "      <td>8</td>\n",
       "      <td>4</td>\n",
       "      <td>0.333333</td>\n",
       "    </tr>\n",
       "    <tr>\n",
       "      <th>12</th>\n",
       "      <td>6</td>\n",
       "      <td>3</td>\n",
       "      <td>0.333333</td>\n",
       "    </tr>\n",
       "    <tr>\n",
       "      <th>13</th>\n",
       "      <td>8</td>\n",
       "      <td>4</td>\n",
       "      <td>0.333333</td>\n",
       "    </tr>\n",
       "    <tr>\n",
       "      <th>6</th>\n",
       "      <td>125</td>\n",
       "      <td>58</td>\n",
       "      <td>0.316940</td>\n",
       "    </tr>\n",
       "    <tr>\n",
       "      <th>4</th>\n",
       "      <td>776</td>\n",
       "      <td>289</td>\n",
       "      <td>0.271362</td>\n",
       "    </tr>\n",
       "    <tr>\n",
       "      <th>11</th>\n",
       "      <td>6</td>\n",
       "      <td>2</td>\n",
       "      <td>0.250000</td>\n",
       "    </tr>\n",
       "    <tr>\n",
       "      <th>7</th>\n",
       "      <td>15</td>\n",
       "      <td>5</td>\n",
       "      <td>0.250000</td>\n",
       "    </tr>\n",
       "    <tr>\n",
       "      <th>5</th>\n",
       "      <td>299</td>\n",
       "      <td>87</td>\n",
       "      <td>0.225389</td>\n",
       "    </tr>\n",
       "    <tr>\n",
       "      <th>10</th>\n",
       "      <td>4</td>\n",
       "      <td>1</td>\n",
       "      <td>0.200000</td>\n",
       "    </tr>\n",
       "    <tr>\n",
       "      <th>3</th>\n",
       "      <td>2119</td>\n",
       "      <td>332</td>\n",
       "      <td>0.135455</td>\n",
       "    </tr>\n",
       "    <tr>\n",
       "      <th>2</th>\n",
       "      <td>44889</td>\n",
       "      <td>5612</td>\n",
       "      <td>0.111127</td>\n",
       "    </tr>\n",
       "    <tr>\n",
       "      <th>0</th>\n",
       "      <td>16107</td>\n",
       "      <td>1024</td>\n",
       "      <td>0.059775</td>\n",
       "    </tr>\n",
       "    <tr>\n",
       "      <th>1</th>\n",
       "      <td>266598</td>\n",
       "      <td>16294</td>\n",
       "      <td>0.057598</td>\n",
       "    </tr>\n",
       "  </tbody>\n",
       "</table>\n",
       "</div>"
      ],
      "text/plain": [
       "CancelFlag          0      1      Freq\n",
       "delivery_time                         \n",
       "24                  0      2  1.000000\n",
       "23                  0      1  1.000000\n",
       "20                  0      1  1.000000\n",
       "18                  1      6  0.857143\n",
       "21                  1      4  0.800000\n",
       "19                  1      2  0.666667\n",
       "14                  6      6  0.500000\n",
       "22                  3      3  0.500000\n",
       "9                   4      4  0.500000\n",
       "16                  3      3  0.500000\n",
       "8                  11      6  0.352941\n",
       "17                  2      1  0.333333\n",
       "15                  8      4  0.333333\n",
       "12                  6      3  0.333333\n",
       "13                  8      4  0.333333\n",
       "6                 125     58  0.316940\n",
       "4                 776    289  0.271362\n",
       "11                  6      2  0.250000\n",
       "7                  15      5  0.250000\n",
       "5                 299     87  0.225389\n",
       "10                  4      1  0.200000\n",
       "3                2119    332  0.135455\n",
       "2               44889   5612  0.111127\n",
       "0               16107   1024  0.059775\n",
       "1              266598  16294  0.057598"
      ]
     },
     "execution_count": 33,
     "metadata": {},
     "output_type": "execute_result"
    }
   ],
   "source": [
    "create_crosstab(OrderInfo, 'delivery_time', 'CancelFlag')"
   ]
  },
  {
   "cell_type": "markdown",
   "metadata": {},
   "source": [
    "#### Количество позиций группы в заказе"
   ]
  },
  {
   "cell_type": "code",
   "execution_count": 58,
   "metadata": {},
   "outputs": [],
   "source": [
    "order_poz = df.groupby(['OrderID', 'GroupID'])['OrderCnt'].sum().unstack().fillna(0)"
   ]
  },
  {
   "cell_type": "code",
   "execution_count": 59,
   "metadata": {},
   "outputs": [
    {
     "data": {
      "text/html": [
       "<div>\n",
       "<style scoped>\n",
       "    .dataframe tbody tr th:only-of-type {\n",
       "        vertical-align: middle;\n",
       "    }\n",
       "\n",
       "    .dataframe tbody tr th {\n",
       "        vertical-align: top;\n",
       "    }\n",
       "\n",
       "    .dataframe thead th {\n",
       "        text-align: right;\n",
       "    }\n",
       "</style>\n",
       "<table border=\"1\" class=\"dataframe\">\n",
       "  <thead>\n",
       "    <tr style=\"text-align: right;\">\n",
       "      <th>GroupID</th>\n",
       "      <th>1.0</th>\n",
       "      <th>2.0</th>\n",
       "      <th>3.0</th>\n",
       "      <th>4.0</th>\n",
       "      <th>5.0</th>\n",
       "      <th>6.0</th>\n",
       "      <th>7.0</th>\n",
       "      <th>8.0</th>\n",
       "      <th>9.0</th>\n",
       "      <th>10.0</th>\n",
       "      <th>...</th>\n",
       "      <th>41.0</th>\n",
       "      <th>42.0</th>\n",
       "      <th>46.0</th>\n",
       "      <th>48.0</th>\n",
       "      <th>53.0</th>\n",
       "      <th>55.0</th>\n",
       "      <th>59.0</th>\n",
       "      <th>61.0</th>\n",
       "      <th>63.0</th>\n",
       "      <th>66.0</th>\n",
       "    </tr>\n",
       "    <tr>\n",
       "      <th>OrderID</th>\n",
       "      <th></th>\n",
       "      <th></th>\n",
       "      <th></th>\n",
       "      <th></th>\n",
       "      <th></th>\n",
       "      <th></th>\n",
       "      <th></th>\n",
       "      <th></th>\n",
       "      <th></th>\n",
       "      <th></th>\n",
       "      <th></th>\n",
       "      <th></th>\n",
       "      <th></th>\n",
       "      <th></th>\n",
       "      <th></th>\n",
       "      <th></th>\n",
       "      <th></th>\n",
       "      <th></th>\n",
       "      <th></th>\n",
       "      <th></th>\n",
       "      <th></th>\n",
       "    </tr>\n",
       "  </thead>\n",
       "  <tbody>\n",
       "    <tr>\n",
       "      <th>90102063002</th>\n",
       "      <td>0.0</td>\n",
       "      <td>0.0</td>\n",
       "      <td>0.0</td>\n",
       "      <td>0.0</td>\n",
       "      <td>0.0</td>\n",
       "      <td>0.0</td>\n",
       "      <td>0.0</td>\n",
       "      <td>0.0</td>\n",
       "      <td>0.0</td>\n",
       "      <td>1.0</td>\n",
       "      <td>...</td>\n",
       "      <td>0.0</td>\n",
       "      <td>0.0</td>\n",
       "      <td>0.0</td>\n",
       "      <td>0.0</td>\n",
       "      <td>0.0</td>\n",
       "      <td>0.0</td>\n",
       "      <td>0.0</td>\n",
       "      <td>3.0</td>\n",
       "      <td>0.0</td>\n",
       "      <td>0.0</td>\n",
       "    </tr>\n",
       "    <tr>\n",
       "      <th>90102091007</th>\n",
       "      <td>0.0</td>\n",
       "      <td>0.0</td>\n",
       "      <td>0.0</td>\n",
       "      <td>0.0</td>\n",
       "      <td>0.0</td>\n",
       "      <td>0.0</td>\n",
       "      <td>0.0</td>\n",
       "      <td>0.0</td>\n",
       "      <td>0.0</td>\n",
       "      <td>0.0</td>\n",
       "      <td>...</td>\n",
       "      <td>0.0</td>\n",
       "      <td>0.0</td>\n",
       "      <td>0.0</td>\n",
       "      <td>0.0</td>\n",
       "      <td>0.0</td>\n",
       "      <td>0.0</td>\n",
       "      <td>0.0</td>\n",
       "      <td>0.0</td>\n",
       "      <td>4.0</td>\n",
       "      <td>0.0</td>\n",
       "    </tr>\n",
       "    <tr>\n",
       "      <th>90102092000</th>\n",
       "      <td>0.0</td>\n",
       "      <td>0.0</td>\n",
       "      <td>0.0</td>\n",
       "      <td>0.0</td>\n",
       "      <td>1.0</td>\n",
       "      <td>0.0</td>\n",
       "      <td>0.0</td>\n",
       "      <td>0.0</td>\n",
       "      <td>0.0</td>\n",
       "      <td>0.0</td>\n",
       "      <td>...</td>\n",
       "      <td>0.0</td>\n",
       "      <td>0.0</td>\n",
       "      <td>0.0</td>\n",
       "      <td>0.0</td>\n",
       "      <td>0.0</td>\n",
       "      <td>0.0</td>\n",
       "      <td>0.0</td>\n",
       "      <td>0.0</td>\n",
       "      <td>0.0</td>\n",
       "      <td>0.0</td>\n",
       "    </tr>\n",
       "    <tr>\n",
       "      <th>90102103017</th>\n",
       "      <td>0.0</td>\n",
       "      <td>0.0</td>\n",
       "      <td>0.0</td>\n",
       "      <td>0.0</td>\n",
       "      <td>0.0</td>\n",
       "      <td>0.0</td>\n",
       "      <td>0.0</td>\n",
       "      <td>0.0</td>\n",
       "      <td>0.0</td>\n",
       "      <td>0.0</td>\n",
       "      <td>...</td>\n",
       "      <td>0.0</td>\n",
       "      <td>0.0</td>\n",
       "      <td>0.0</td>\n",
       "      <td>0.0</td>\n",
       "      <td>0.0</td>\n",
       "      <td>0.0</td>\n",
       "      <td>0.0</td>\n",
       "      <td>0.0</td>\n",
       "      <td>1.0</td>\n",
       "      <td>0.0</td>\n",
       "    </tr>\n",
       "    <tr>\n",
       "      <th>90102104012</th>\n",
       "      <td>0.0</td>\n",
       "      <td>0.0</td>\n",
       "      <td>0.0</td>\n",
       "      <td>0.0</td>\n",
       "      <td>0.0</td>\n",
       "      <td>0.0</td>\n",
       "      <td>0.0</td>\n",
       "      <td>0.0</td>\n",
       "      <td>0.0</td>\n",
       "      <td>0.0</td>\n",
       "      <td>...</td>\n",
       "      <td>0.0</td>\n",
       "      <td>0.0</td>\n",
       "      <td>0.0</td>\n",
       "      <td>0.0</td>\n",
       "      <td>0.0</td>\n",
       "      <td>0.0</td>\n",
       "      <td>0.0</td>\n",
       "      <td>1.0</td>\n",
       "      <td>2.0</td>\n",
       "      <td>0.0</td>\n",
       "    </tr>\n",
       "  </tbody>\n",
       "</table>\n",
       "<p>5 rows × 48 columns</p>\n",
       "</div>"
      ],
      "text/plain": [
       "GroupID      1.0   2.0   3.0   4.0   5.0   6.0   7.0   8.0   9.0   10.0  ...   \\\n",
       "OrderID                                                                  ...    \n",
       "90102063002   0.0   0.0   0.0   0.0   0.0   0.0   0.0   0.0   0.0   1.0  ...    \n",
       "90102091007   0.0   0.0   0.0   0.0   0.0   0.0   0.0   0.0   0.0   0.0  ...    \n",
       "90102092000   0.0   0.0   0.0   0.0   1.0   0.0   0.0   0.0   0.0   0.0  ...    \n",
       "90102103017   0.0   0.0   0.0   0.0   0.0   0.0   0.0   0.0   0.0   0.0  ...    \n",
       "90102104012   0.0   0.0   0.0   0.0   0.0   0.0   0.0   0.0   0.0   0.0  ...    \n",
       "\n",
       "GroupID      41.0  42.0  46.0  48.0  53.0  55.0  59.0  61.0  63.0  66.0  \n",
       "OrderID                                                                  \n",
       "90102063002   0.0   0.0   0.0   0.0   0.0   0.0   0.0   3.0   0.0   0.0  \n",
       "90102091007   0.0   0.0   0.0   0.0   0.0   0.0   0.0   0.0   4.0   0.0  \n",
       "90102092000   0.0   0.0   0.0   0.0   0.0   0.0   0.0   0.0   0.0   0.0  \n",
       "90102103017   0.0   0.0   0.0   0.0   0.0   0.0   0.0   0.0   1.0   0.0  \n",
       "90102104012   0.0   0.0   0.0   0.0   0.0   0.0   0.0   1.0   2.0   0.0  \n",
       "\n",
       "[5 rows x 48 columns]"
      ]
     },
     "execution_count": 59,
     "metadata": {},
     "output_type": "execute_result"
    }
   ],
   "source": [
    "order_poz.head()"
   ]
  },
  {
   "cell_type": "markdown",
   "metadata": {},
   "source": [
    "#### Cluster"
   ]
  },
  {
   "cell_type": "code",
   "execution_count": 82,
   "metadata": {},
   "outputs": [
    {
     "data": {
      "text/plain": [
       "<matplotlib.axes._subplots.AxesSubplot at 0x2584740b588>"
      ]
     },
     "execution_count": 82,
     "metadata": {},
     "output_type": "execute_result"
    },
    {
     "data": {
      "image/png": "[encoded data removed]",
      "text/plain": [
       "<Figure size 1080x504 with 1 Axes>"
      ]
     },
     "metadata": {
      "needs_background": "light"
     },
     "output_type": "display_data"
    }
   ],
   "source": [
    "OrderInfo.Cluster.value_counts().plot(kind='bar', figsize=(15,7))"
   ]
  },
  {
   "cell_type": "code",
   "execution_count": 83,
   "metadata": {},
   "outputs": [
    {
     "data": {
      "text/plain": [
       "(221762, 12)"
      ]
     },
     "execution_count": 83,
     "metadata": {},
     "output_type": "execute_result"
    }
   ],
   "source": [
    "OrderInfo[OrderInfo.Cluster.isnull()].shape"
   ]
  },
  {
   "cell_type": "code",
   "execution_count": 34,
   "metadata": {},
   "outputs": [
    {
     "data": {
      "text/html": [
       "<div>\n",
       "<style scoped>\n",
       "    .dataframe tbody tr th:only-of-type {\n",
       "        vertical-align: middle;\n",
       "    }\n",
       "\n",
       "    .dataframe tbody tr th {\n",
       "        vertical-align: top;\n",
       "    }\n",
       "\n",
       "    .dataframe thead th {\n",
       "        text-align: right;\n",
       "    }\n",
       "</style>\n",
       "<table border=\"1\" class=\"dataframe\">\n",
       "  <thead>\n",
       "    <tr style=\"text-align: right;\">\n",
       "      <th>CancelFlag</th>\n",
       "      <th>0</th>\n",
       "      <th>1</th>\n",
       "      <th>Freq</th>\n",
       "    </tr>\n",
       "    <tr>\n",
       "      <th>Cluster</th>\n",
       "      <th></th>\n",
       "      <th></th>\n",
       "      <th></th>\n",
       "    </tr>\n",
       "  </thead>\n",
       "  <tbody>\n",
       "    <tr>\n",
       "      <th>HUB20</th>\n",
       "      <td>2535</td>\n",
       "      <td>257</td>\n",
       "      <td>0.092049</td>\n",
       "    </tr>\n",
       "    <tr>\n",
       "      <th>ZON1</th>\n",
       "      <td>1070</td>\n",
       "      <td>108</td>\n",
       "      <td>0.091681</td>\n",
       "    </tr>\n",
       "    <tr>\n",
       "      <th>HUB1</th>\n",
       "      <td>3610</td>\n",
       "      <td>363</td>\n",
       "      <td>0.091367</td>\n",
       "    </tr>\n",
       "    <tr>\n",
       "      <th>HUB11</th>\n",
       "      <td>1469</td>\n",
       "      <td>136</td>\n",
       "      <td>0.084735</td>\n",
       "    </tr>\n",
       "    <tr>\n",
       "      <th>HUB16</th>\n",
       "      <td>2714</td>\n",
       "      <td>235</td>\n",
       "      <td>0.079688</td>\n",
       "    </tr>\n",
       "    <tr>\n",
       "      <th>HUB19</th>\n",
       "      <td>3937</td>\n",
       "      <td>334</td>\n",
       "      <td>0.078202</td>\n",
       "    </tr>\n",
       "    <tr>\n",
       "      <th>HUB17</th>\n",
       "      <td>4680</td>\n",
       "      <td>373</td>\n",
       "      <td>0.073818</td>\n",
       "    </tr>\n",
       "    <tr>\n",
       "      <th>HUB21</th>\n",
       "      <td>1757</td>\n",
       "      <td>135</td>\n",
       "      <td>0.071353</td>\n",
       "    </tr>\n",
       "    <tr>\n",
       "      <th>HUB9</th>\n",
       "      <td>3348</td>\n",
       "      <td>256</td>\n",
       "      <td>0.071032</td>\n",
       "    </tr>\n",
       "    <tr>\n",
       "      <th>HUB15</th>\n",
       "      <td>1181</td>\n",
       "      <td>89</td>\n",
       "      <td>0.070079</td>\n",
       "    </tr>\n",
       "    <tr>\n",
       "      <th>HUB22</th>\n",
       "      <td>2946</td>\n",
       "      <td>214</td>\n",
       "      <td>0.067722</td>\n",
       "    </tr>\n",
       "    <tr>\n",
       "      <th>HUB2</th>\n",
       "      <td>2466</td>\n",
       "      <td>177</td>\n",
       "      <td>0.066969</td>\n",
       "    </tr>\n",
       "    <tr>\n",
       "      <th>HUB18</th>\n",
       "      <td>1284</td>\n",
       "      <td>90</td>\n",
       "      <td>0.065502</td>\n",
       "    </tr>\n",
       "    <tr>\n",
       "      <th>HUB5</th>\n",
       "      <td>68995</td>\n",
       "      <td>4825</td>\n",
       "      <td>0.065362</td>\n",
       "    </tr>\n",
       "    <tr>\n",
       "      <th>HUB6</th>\n",
       "      <td>4823</td>\n",
       "      <td>318</td>\n",
       "      <td>0.061856</td>\n",
       "    </tr>\n",
       "    <tr>\n",
       "      <th>HUB10</th>\n",
       "      <td>1593</td>\n",
       "      <td>104</td>\n",
       "      <td>0.061285</td>\n",
       "    </tr>\n",
       "    <tr>\n",
       "      <th>HUB12</th>\n",
       "      <td>1466</td>\n",
       "      <td>92</td>\n",
       "      <td>0.059050</td>\n",
       "    </tr>\n",
       "    <tr>\n",
       "      <th>HUB8</th>\n",
       "      <td>2860</td>\n",
       "      <td>174</td>\n",
       "      <td>0.057350</td>\n",
       "    </tr>\n",
       "    <tr>\n",
       "      <th>HUB3</th>\n",
       "      <td>1746</td>\n",
       "      <td>99</td>\n",
       "      <td>0.053659</td>\n",
       "    </tr>\n",
       "    <tr>\n",
       "      <th>HUB4</th>\n",
       "      <td>1965</td>\n",
       "      <td>107</td>\n",
       "      <td>0.051641</td>\n",
       "    </tr>\n",
       "    <tr>\n",
       "      <th>HUB13</th>\n",
       "      <td>1814</td>\n",
       "      <td>98</td>\n",
       "      <td>0.051255</td>\n",
       "    </tr>\n",
       "    <tr>\n",
       "      <th>HUB14</th>\n",
       "      <td>2519</td>\n",
       "      <td>136</td>\n",
       "      <td>0.051224</td>\n",
       "    </tr>\n",
       "    <tr>\n",
       "      <th>HUB7</th>\n",
       "      <td>3312</td>\n",
       "      <td>174</td>\n",
       "      <td>0.049914</td>\n",
       "    </tr>\n",
       "  </tbody>\n",
       "</table>\n",
       "</div>"
      ],
      "text/plain": [
       "CancelFlag      0     1      Freq\n",
       "Cluster                          \n",
       "HUB20        2535   257  0.092049\n",
       "ZON1         1070   108  0.091681\n",
       "HUB1         3610   363  0.091367\n",
       "HUB11        1469   136  0.084735\n",
       "HUB16        2714   235  0.079688\n",
       "HUB19        3937   334  0.078202\n",
       "HUB17        4680   373  0.073818\n",
       "HUB21        1757   135  0.071353\n",
       "HUB9         3348   256  0.071032\n",
       "HUB15        1181    89  0.070079\n",
       "HUB22        2946   214  0.067722\n",
       "HUB2         2466   177  0.066969\n",
       "HUB18        1284    90  0.065502\n",
       "HUB5        68995  4825  0.065362\n",
       "HUB6         4823   318  0.061856\n",
       "HUB10        1593   104  0.061285\n",
       "HUB12        1466    92  0.059050\n",
       "HUB8         2860   174  0.057350\n",
       "HUB3         1746    99  0.053659\n",
       "HUB4         1965   107  0.051641\n",
       "HUB13        1814    98  0.051255\n",
       "HUB14        2519   136  0.051224\n",
       "HUB7         3312   174  0.049914"
      ]
     },
     "execution_count": 34,
     "metadata": {},
     "output_type": "execute_result"
    }
   ],
   "source": [
    "create_crosstab(OrderInfo, 'Cluster', 'CancelFlag')"
   ]
  },
  {
   "cell_type": "markdown",
   "metadata": {},
   "source": [
    "#### День недели"
   ]
  },
  {
   "cell_type": "code",
   "execution_count": 36,
   "metadata": {},
   "outputs": [],
   "source": [
    "OrderInfo['weekday'] = OrderInfo.Date.apply(lambda x: x.weekday())"
   ]
  },
  {
   "cell_type": "code",
   "execution_count": 37,
   "metadata": {},
   "outputs": [
    {
     "data": {
      "text/plain": [
       "<matplotlib.axes._subplots.AxesSubplot at 0x28b30ba8c50>"
      ]
     },
     "execution_count": 37,
     "metadata": {},
     "output_type": "execute_result"
    },
    {
     "data": {
      "image/png": "[encoded data removed]",
      "text/plain": [
       "<Figure size 720x360 with 1 Axes>"
      ]
     },
     "metadata": {
      "needs_background": "light"
     },
     "output_type": "display_data"
    }
   ],
   "source": [
    "OrderInfo.groupby('weekday')['CancelFlag'].sum().plot(kind='bar', figsize=(10,5))"
   ]
  },
  {
   "cell_type": "code",
   "execution_count": 38,
   "metadata": {},
   "outputs": [
    {
     "data": {
      "text/plain": [
       "<matplotlib.axes._subplots.AxesSubplot at 0x28b30ca1470>"
      ]
     },
     "execution_count": 38,
     "metadata": {},
     "output_type": "execute_result"
    },
    {
     "data": {
      "image/png": "[encoded data removed]",
      "text/plain": [
       "<Figure size 720x360 with 1 Axes>"
      ]
     },
     "metadata": {
      "needs_background": "light"
     },
     "output_type": "display_data"
    }
   ],
   "source": [
    "OrderInfo.groupby('weekday')['OrderID'].count().plot(kind='bar', figsize=(10,5))"
   ]
  },
  {
   "cell_type": "code",
   "execution_count": 40,
   "metadata": {},
   "outputs": [
    {
     "data": {
      "text/plain": [
       "<matplotlib.axes._subplots.AxesSubplot at 0x28b32df3438>"
      ]
     },
     "execution_count": 40,
     "metadata": {},
     "output_type": "execute_result"
    },
    {
     "data": {
      "image/png": "[encoded data removed]",
      "text/plain": [
       "<Figure size 720x360 with 1 Axes>"
      ]
     },
     "metadata": {
      "needs_background": "light"
     },
     "output_type": "display_data"
    }
   ],
   "source": [
    "(OrderInfo.groupby('weekday')['CancelFlag'].sum() / \n",
    "    OrderInfo.groupby('weekday')['OrderID'].count()).plot(kind='bar', figsize=(10,5))"
   ]
  },
  {
   "cell_type": "markdown",
   "metadata": {},
   "source": [
    "Видим, что количество отмен растет к пятнице, но на самом деле это связано с тем, что и количество заказов растет. Частота отмен при этом примерно на одном уровне."
   ]
  },
  {
   "cell_type": "code",
   "execution_count": 103,
   "metadata": {},
   "outputs": [
    {
     "data": {
      "text/plain": [
       "Date\n",
       "2018-12-29    1579\n",
       "2018-12-28    1508\n",
       "2018-12-27    1488\n",
       "2018-12-30    1329\n",
       "2018-12-21    1318\n",
       "2018-12-20    1316\n",
       "2018-12-26    1298\n",
       "2018-12-08    1286\n",
       "2018-12-22    1285\n",
       "2018-12-14    1280\n",
       "2018-12-15    1261\n",
       "2018-12-17    1250\n",
       "2018-02-16    1239\n",
       "2018-01-20    1236\n",
       "2018-03-07    1234\n",
       "2018-04-06    1234\n",
       "2018-01-13    1229\n",
       "2018-12-18    1228\n",
       "2018-02-22    1227\n",
       "2018-01-12    1217\n",
       "Name: OrderID, dtype: int64"
      ]
     },
     "execution_count": 103,
     "metadata": {},
     "output_type": "execute_result"
    }
   ],
   "source": [
    "OrderInfo.groupby('Date')['OrderID'].count().sort_values(ascending=False).head(20)"
   ]
  },
  {
   "cell_type": "markdown",
   "metadata": {},
   "source": [
    "#### Анализ частоты отказов по дате"
   ]
  },
  {
   "cell_type": "code",
   "execution_count": 115,
   "metadata": {},
   "outputs": [
    {
     "data": {
      "text/plain": [
       "<matplotlib.axes._subplots.AxesSubplot at 0x258085557f0>"
      ]
     },
     "execution_count": 115,
     "metadata": {},
     "output_type": "execute_result"
    },
    {
     "data": {
      "image/png": "[encoded data removed]",
      "text/plain": [
       "<Figure size 1080x504 with 1 Axes>"
      ]
     },
     "metadata": {
      "needs_background": "light"
     },
     "output_type": "display_data"
    }
   ],
   "source": [
    "(df.groupby('Date')['CancelFlag'].sum() / df.groupby('Date')['OrderID'].count()).plot(figsize=(15,7))"
   ]
  }
 ],
 "metadata": {
  "kernelspec": {
   "display_name": "Python 3",
   "language": "python",
   "name": "python3"
  },
  "language_info": {
   "codemirror_mode": {
    "name": "ipython",
    "version": 3
   },
   "file_extension": ".py",
   "mimetype": "text/x-python",
   "name": "python",
   "nbconvert_exporter": "python",
   "pygments_lexer": "ipython3",
   "version": "3.7.0"
  }
 },
 "nbformat": 4,
 "nbformat_minor": 2
}
